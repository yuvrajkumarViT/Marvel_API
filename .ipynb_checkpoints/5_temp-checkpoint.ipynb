{
 "cells": [
  {
   "cell_type": "code",
   "execution_count": 4,
   "id": "0b04761b",
   "metadata": {},
   "outputs": [
    {
     "name": "stdout",
     "output_type": "stream",
     "text": [
      "Enter public key65c7a314b62619d595a44a1813cab4c4\n",
      "enter private key2017dd7618ab46c929ab831d8e56515a37a656ee\n",
      "namestartswithas\n",
      "enter hashce59c32ced0dc35762424805b6496a63\n"
     ]
    },
    {
     "ename": "NameError",
     "evalue": "name 'datframe_creation' is not defined",
     "output_type": "error",
     "traceback": [
      "\u001b[1;31m---------------------------------------------------------------------------\u001b[0m",
      "\u001b[1;31mNameError\u001b[0m                                 Traceback (most recent call last)",
      "\u001b[1;32m~\\AppData\\Local\\Temp/ipykernel_8344/43736119.py\u001b[0m in \u001b[0;36m<module>\u001b[1;34m\u001b[0m\n\u001b[0;32m     25\u001b[0m \u001b[1;33m\u001b[0m\u001b[0m\n\u001b[0;32m     26\u001b[0m \u001b[1;33m\u001b[0m\u001b[0m\n\u001b[1;32m---> 27\u001b[1;33m \u001b[0mdf\u001b[0m\u001b[1;33m=\u001b[0m\u001b[0mdatframe_creation\u001b[0m\u001b[1;33m.\u001b[0m\u001b[0mcreate_df\u001b[0m\u001b[1;33m(\u001b[0m\u001b[0mpub_k\u001b[0m\u001b[1;33m,\u001b[0m\u001b[0mnameStartsWith\u001b[0m\u001b[1;33m,\u001b[0m\u001b[0mhash\u001b[0m\u001b[1;33m)\u001b[0m\u001b[1;33m\u001b[0m\u001b[1;33m\u001b[0m\u001b[0m\n\u001b[0m\u001b[0;32m     28\u001b[0m \u001b[1;33m\u001b[0m\u001b[0m\n\u001b[0;32m     29\u001b[0m \u001b[0mprint\u001b[0m\u001b[1;33m(\u001b[0m\u001b[0mdf\u001b[0m\u001b[1;33m)\u001b[0m\u001b[1;33m\u001b[0m\u001b[1;33m\u001b[0m\u001b[0m\n",
      "\u001b[1;31mNameError\u001b[0m: name 'datframe_creation' is not defined"
     ]
    }
   ],
   "source": [
    "pub_k = input(\"Enter public key\")\n",
    "pvt_k = input(\"enter private key\")\n",
    "nameStartsWith=input(\"namestartswith\")\n",
    "hash = input(\"enter hash\")\n",
    "\n",
    "from hashlib import md5\n",
    "import requests\n",
    "import json\n",
    "import hashlib\n",
    "from package import dataframe_creation\n",
    "\n",
    "\n",
    "# pub_k = input(\"Enter public key\")\n",
    "# pvt_k = input(\"enter private key\")\n",
    "# hash = input(\"enter hash\")\n",
    "# ts='2'\n",
    "# total=ts+pvt_k+pub_k\n",
    "# hash=hashlib.md5(total.encode(\"utf-8\")).hexdigest()\n",
    "\n",
    "\n",
    "\n",
    "\n",
    "\n",
    "\n",
    "\n",
    "\n",
    "df=dataframe_creation.create_df(pub_k,nameStartsWith,hash)\n",
    "\n",
    "print(df)\n",
    "\n",
    "\n",
    "    \n",
    "\n",
    "\n",
    "\n"
   ]
  },
  {
   "cell_type": "code",
   "execution_count": null,
   "id": "533f5701",
   "metadata": {},
   "outputs": [],
   "source": []
  }
 ],
 "metadata": {
  "kernelspec": {
   "display_name": "Python 3 (ipykernel)",
   "language": "python",
   "name": "python3"
  },
  "language_info": {
   "codemirror_mode": {
    "name": "ipython",
    "version": 3
   },
   "file_extension": ".py",
   "mimetype": "text/x-python",
   "name": "python",
   "nbconvert_exporter": "python",
   "pygments_lexer": "ipython3",
   "version": "3.9.7"
  }
 },
 "nbformat": 4,
 "nbformat_minor": 5
}
