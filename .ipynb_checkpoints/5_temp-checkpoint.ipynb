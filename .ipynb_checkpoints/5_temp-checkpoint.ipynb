{
 "cells": [
  {
   "cell_type": "code",
   "execution_count": 1,
   "id": "0b04761b",
   "metadata": {},
   "outputs": [
    {
     "name": "stdout",
     "output_type": "stream",
     "text": [
      "Enter public key23\n",
      "enter private key34\n",
      "enter hash34\n"
     ]
    },
    {
     "name": "stderr",
     "output_type": "stream",
     "text": [
      "C:\\Users\\Yuvraj\\anaconda3\\lib\\site-packages\\urllib3\\connectionpool.py:1013: InsecureRequestWarning: Unverified HTTPS request is being made to host 'gateway.marvel.com'. Adding certificate verification is strongly advised. See: https://urllib3.readthedocs.io/en/1.26.x/advanced-usage.html#ssl-warnings\n",
      "  warnings.warn(\n"
     ]
    },
    {
     "name": "stdout",
     "output_type": "stream",
     "text": [
      "{\"code\": \"InvalidCredentials\", \"message\": \"The passed API key is invalid.\"}\n"
     ]
    }
   ],
   "source": [
    "pub_k = input(\"Enter public key\")\n",
    "pvt_k = input(\"enter private key\")\n",
    "hash = input(\"enter hash\")\n",
    "\n",
    "from hashlib import md5\n",
    "import requests\n",
    "import json\n",
    "import hashlib\n",
    "\n",
    "\n",
    "\n",
    "# pub_k = input(\"Enter public key\")\n",
    "# pvt_k = input(\"enter private key\")\n",
    "# hash = input(\"enter hash\")\n",
    "# ts='2'\n",
    "# total=ts+pvt_k+pub_k\n",
    "# hash=hashlib.md5(total.encode(\"utf-8\")).hexdigest()\n",
    "\n",
    "\n",
    "\n",
    "\n",
    "\n",
    "\n",
    "\n",
    "\n",
    "url=\"https://gateway.marvel.com:443/v1/public/characters\"\n",
    "\n",
    "param={\n",
    "        'nameStartsWith':'h',\n",
    "        'ts':2,\n",
    "        'apikey':pub_k,\n",
    "        'hash':hash,\n",
    "        'name':'hulk'\n",
    "        \n",
    "\n",
    "}\n",
    "\n",
    "headers={'Content-Type':'application/json'}\n",
    "\n",
    "response=requests.get(url,headers=headers,params=param,verify=False)\n",
    "response.raise_for_statusresult=response.json()\n",
    "results=response.json()\n",
    "\n",
    "print(json.dumps(results))\n",
    "out_file = open(\"5_th_op.json\", \"w\")\n",
    "json.dump(results, out_file, indent = 4)\n",
    "out_file.close()\n",
    "\n",
    "\n",
    "    \n",
    "\n",
    "\n",
    "\n"
   ]
  },
  {
   "cell_type": "code",
   "execution_count": null,
   "id": "533f5701",
   "metadata": {},
   "outputs": [],
   "source": []
  }
 ],
 "metadata": {
  "kernelspec": {
   "display_name": "Python 3 (ipykernel)",
   "language": "python",
   "name": "python3"
  },
  "language_info": {
   "codemirror_mode": {
    "name": "ipython",
    "version": 3
   },
   "file_extension": ".py",
   "mimetype": "text/x-python",
   "name": "python",
   "nbconvert_exporter": "python",
   "pygments_lexer": "ipython3",
   "version": "3.9.7"
  }
 },
 "nbformat": 4,
 "nbformat_minor": 5
}
