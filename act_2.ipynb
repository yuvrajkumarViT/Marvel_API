{
 "cells": [
  {
   "cell_type": "code",
   "execution_count": 1,
   "id": "4b56c8a9",
   "metadata": {},
   "outputs": [],
   "source": [
    "from hashlib import md5\n",
    "import requests\n",
    "import json\n",
    "import hashlib\n",
    "import json\n",
    "from pandas import DataFrame\n",
    "import pandas as pd"
   ]
  },
  {
   "cell_type": "code",
   "execution_count": 2,
   "id": "6921d04e",
   "metadata": {},
   "outputs": [],
   "source": [
    "pub_k='65c7a314b62619d595a44a1813cab4c4'\n",
    "pvt_k='2017dd7618ab46c929ab831d8e56515a37a656ee'\n",
    "ts='2'\n",
    "\n",
    "total=ts+pvt_k+pub_k\n",
    "hash=hashlib.md5(total.encode(\"utf-8\")).hexdigest()"
   ]
  },
  {
   "cell_type": "code",
   "execution_count": 3,
   "id": "8c701549",
   "metadata": {},
   "outputs": [],
   "source": [
    "df=[]"
   ]
  },
  {
   "cell_type": "code",
   "execution_count": 4,
   "id": "a45e7474",
   "metadata": {},
   "outputs": [],
   "source": [
    "url=\"https://gateway.marvel.com:443/v1/public/characters\""
   ]
  },
  {
   "cell_type": "code",
   "execution_count": 10,
   "id": "3e00c731",
   "metadata": {},
   "outputs": [
    {
     "name": "stderr",
     "output_type": "stream",
     "text": [
      "C:\\Users\\Yuvraj\\anaconda3\\lib\\site-packages\\urllib3\\connectionpool.py:1013: InsecureRequestWarning: Unverified HTTPS request is being made to host 'gateway.marvel.com'. Adding certificate verification is strongly advised. See: https://urllib3.readthedocs.io/en/1.26.x/advanced-usage.html#ssl-warnings\n",
      "  warnings.warn(\n",
      "C:\\Users\\Yuvraj\\anaconda3\\lib\\site-packages\\urllib3\\connectionpool.py:1013: InsecureRequestWarning: Unverified HTTPS request is being made to host 'gateway.marvel.com'. Adding certificate verification is strongly advised. See: https://urllib3.readthedocs.io/en/1.26.x/advanced-usage.html#ssl-warnings\n",
      "  warnings.warn(\n",
      "C:\\Users\\Yuvraj\\anaconda3\\lib\\site-packages\\urllib3\\connectionpool.py:1013: InsecureRequestWarning: Unverified HTTPS request is being made to host 'gateway.marvel.com'. Adding certificate verification is strongly advised. See: https://urllib3.readthedocs.io/en/1.26.x/advanced-usage.html#ssl-warnings\n",
      "  warnings.warn(\n",
      "C:\\Users\\Yuvraj\\anaconda3\\lib\\site-packages\\urllib3\\connectionpool.py:1013: InsecureRequestWarning: Unverified HTTPS request is being made to host 'gateway.marvel.com'. Adding certificate verification is strongly advised. See: https://urllib3.readthedocs.io/en/1.26.x/advanced-usage.html#ssl-warnings\n",
      "  warnings.warn(\n"
     ]
    }
   ],
   "source": [
    "headers={'Content-Type':'application/json'}\n",
    "n=0\n",
    "for i in range(4):\n",
    "    param={'apikey' : pub_k,\n",
    "        'nameStartsWith': 'sa',\n",
    "        'ts' : '2',\n",
    "        'hash' : hash, \n",
    "        'offset': n,\n",
    "        'limit' : 100}\n",
    "    n+=100\n",
    "    response=requests.get(url,headers=headers,params=param,verify=False)\n",
    "    response.raise_for_statusresult=response.json()\n",
    "    results=response.json()\n",
    "#     out_file = open(\"marvel_out.json\", \"w\")\n",
    "\n",
    "#     json.dump(results, out_file, indent = 4)\n",
    "#     out_file.close()\n",
    "#     with open('C:/Users/yuvraj.kumar/Desktop/marvel_out.json') as f:\n",
    "#             op=json.load(f)\n",
    "    op=results\n",
    "    new_row = []\n",
    "    for a in op['data']['results']:\n",
    "\n",
    "        new_row.append(a['name'])\n",
    "        new_row.append(a['events']['available'])\n",
    "        new_row.append(a['series']['available'])\n",
    "        new_row.append(a['stories']['available'])\n",
    "        new_row.append(a['comics']['available'])\n",
    "        new_row.append(a['id'])\n",
    "        df.append(new_row)\n",
    "        new_row=[]\n",
    "df_main = pd.DataFrame(df,columns=['Character_Name','Events','Series','Stories','Comis','id'])\n"
   ]
  },
  {
   "cell_type": "code",
   "execution_count": 11,
   "id": "79fdc0fa",
   "metadata": {},
   "outputs": [
    {
     "name": "stdout",
     "output_type": "stream",
     "text": [
      "                    Character_Name  Events  Series  Stories  Comis       id\n",
      "0                     A-Bomb (HAS)       0       2        7      4  1017100\n",
      "1                           A.I.M.       0      34       54     51  1009144\n",
      "2                      Aaron Stack       0       3       27     14  1010699\n",
      "3       Abomination (Emil Blonsky)       1      27       65     55  1009146\n",
      "4           Abomination (Ultimate)       0       2        3      2  1016823\n",
      "..                             ...     ...     ...      ...    ...      ...\n",
      "296                    Santa Claus       0       2        4      2  1010711\n",
      "297     Saracen (Muzzafar Lambert)       0       0        0      0  1009559\n",
      "298  Sasquatch (Walter Langkowski)       4      35      114     96  1009560\n",
      "299                         Satana       0      15       48     33  1011035\n",
      "300                         Sauron       1      27       66     62  1009561\n",
      "\n",
      "[301 rows x 6 columns]\n"
     ]
    }
   ],
   "source": [
    "print(df_main)"
   ]
  },
  {
   "cell_type": "code",
   "execution_count": null,
   "id": "6dea0ba2",
   "metadata": {},
   "outputs": [],
   "source": []
  }
 ],
 "metadata": {
  "kernelspec": {
   "display_name": "Python 3 (ipykernel)",
   "language": "python",
   "name": "python3"
  },
  "language_info": {
   "codemirror_mode": {
    "name": "ipython",
    "version": 3
   },
   "file_extension": ".py",
   "mimetype": "text/x-python",
   "name": "python",
   "nbconvert_exporter": "python",
   "pygments_lexer": "ipython3",
   "version": "3.9.7"
  }
 },
 "nbformat": 4,
 "nbformat_minor": 5
}
