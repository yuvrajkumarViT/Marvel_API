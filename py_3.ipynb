{
 "cells": [
  {
   "cell_type": "code",
   "execution_count": null,
   "id": "42ade63b",
   "metadata": {},
   "outputs": [],
   "source": []
  },
  {
   "cell_type": "code",
   "execution_count": 1,
   "id": "30cd6085",
   "metadata": {},
   "outputs": [],
   "source": [
    "from hashlib import md5\n",
    "import requests\n",
    "import json\n",
    "import hashlib\n",
    "import json\n",
    "from pandas import DataFrame\n",
    "import pandas as pd"
   ]
  },
  {
   "cell_type": "code",
   "execution_count": 2,
   "id": "0f2acf41",
   "metadata": {},
   "outputs": [
    {
     "name": "stdout",
     "output_type": "stream",
     "text": [
      "ce59c32ced0dc35762424805b6496a63\n"
     ]
    }
   ],
   "source": [
    "pub_k='65c7a314b62619d595a44a1813cab4c4'\n",
    "pvt_k='2017dd7618ab46c929ab831d8e56515a37a656ee'\n",
    "ts='2'\n",
    "\n",
    "total=ts+pvt_k+pub_k\n",
    "hash=hashlib.md5(total.encode(\"utf-8\")).hexdigest()\n",
    "print(hash)"
   ]
  },
  {
   "cell_type": "code",
   "execution_count": 3,
   "id": "90b0c080",
   "metadata": {},
   "outputs": [],
   "source": [
    "df=[]"
   ]
  },
  {
   "cell_type": "code",
   "execution_count": 6,
   "id": "ec3092ca",
   "metadata": {},
   "outputs": [],
   "source": [
    "\n",
    "def fun(api,nameStartsWith,hash):\n",
    "    \n",
    "    # pub_k='65c7a314b62619d595a44a1813cab4c4'\n",
    "    # pvt_k='2017dd7618ab46c929ab831d8e56515a37a656ee'\n",
    "    # ts='2'\n",
    "\n",
    "    # total=ts+pvt_k+pub_k\n",
    "    # hash=hashlib.md5(total.encode(\"utf-8\")).hexdigest()\n",
    "\n",
    "    url=\"https://gateway.marvel.com:443/v1/public/characters\"\n",
    "\n",
    "#     param={\n",
    "#         'nameStartsWith':nameStartsWith,\n",
    "#         'ts':2,\n",
    "#         'apikey':pub_k,\n",
    "#         'hash':hash,\n",
    "#         'limit':100\n",
    "\n",
    "#     }\n",
    "\n",
    "\n",
    "\n",
    "    headers={'Content-Type':'application/json'}\n",
    "    n=0\n",
    "    for i in range(4):\n",
    "        param={'apikey' : api,\n",
    "            'nameStartsWith': nameStartsWith,\n",
    "            'ts' : '2',\n",
    "            'hash' : hash, \n",
    "            'offset': n,\n",
    "            'limit' : 100}\n",
    "        n+=100\n",
    "        #headers = {'Content-Type':'application/json'}\n",
    "#         response = requests.get(address,params=param,headers=headers)\n",
    "\n",
    "#         res = response.json()\n",
    "        response=requests.get(url,headers=headers,params=param,verify=False)\n",
    "        response.raise_for_statusresult=response.json()\n",
    "        results=response.json()\n",
    "        \n",
    "#         with open('C:/Users/yuvraj.kumar/Desktop/marvel_out.json') as f:\n",
    "#             op=json.load(f)\n",
    "\n",
    "#         for i in res['data']['results']:\n",
    "#             a.append(i['id'])\n",
    "#             a.append(i['name'])\n",
    "#             a.append(i['description'])\n",
    "#             a.append(i['comics']['available'])\n",
    "#             a.append(i['series'][\"available\"])\n",
    "#             a.append(i[\"stories\"][\"available\"])\n",
    "#             a.append(i[\"events\"][\"available\"])\n",
    "#             b.append(a)\n",
    "#             a=[]\n",
    "#         df = pd.DataFrame(b,columns=['id','Character_Name','Description','Comics','Series','Stories','Events'])\n",
    "        \n",
    "        \n",
    "        op=results\n",
    "        new_row = []\n",
    "        for a in op['data']['results']:\n",
    "\n",
    "            new_row.append(a['name'])\n",
    "            new_row.append(a['events']['available'])\n",
    "            new_row.append(a['series']['available'])\n",
    "            new_row.append(a['stories']['available'])\n",
    "            new_row.append(a['comics']['available'])\n",
    "            new_row.append(a['id'])\n",
    "            df.append(new_row)\n",
    "            new_row=[]\n",
    "        \n",
    "        \n",
    "    df_main = pd.DataFrame(df,columns=['Character_Name','Events','Series','Stories','Comis','id'])\n",
    "    print(df_main)\n",
    "    return df_main\n",
    "        "
   ]
  },
  {
   "cell_type": "code",
   "execution_count": 7,
   "id": "2a8d1dac",
   "metadata": {},
   "outputs": [
    {
     "name": "stderr",
     "output_type": "stream",
     "text": [
      "C:\\Users\\Yuvraj\\anaconda3\\lib\\site-packages\\urllib3\\connectionpool.py:1013: InsecureRequestWarning: Unverified HTTPS request is being made to host 'gateway.marvel.com'. Adding certificate verification is strongly advised. See: https://urllib3.readthedocs.io/en/1.26.x/advanced-usage.html#ssl-warnings\n",
      "  warnings.warn(\n",
      "C:\\Users\\Yuvraj\\anaconda3\\lib\\site-packages\\urllib3\\connectionpool.py:1013: InsecureRequestWarning: Unverified HTTPS request is being made to host 'gateway.marvel.com'. Adding certificate verification is strongly advised. See: https://urllib3.readthedocs.io/en/1.26.x/advanced-usage.html#ssl-warnings\n",
      "  warnings.warn(\n",
      "C:\\Users\\Yuvraj\\anaconda3\\lib\\site-packages\\urllib3\\connectionpool.py:1013: InsecureRequestWarning: Unverified HTTPS request is being made to host 'gateway.marvel.com'. Adding certificate verification is strongly advised. See: https://urllib3.readthedocs.io/en/1.26.x/advanced-usage.html#ssl-warnings\n",
      "  warnings.warn(\n",
      "C:\\Users\\Yuvraj\\anaconda3\\lib\\site-packages\\urllib3\\connectionpool.py:1013: InsecureRequestWarning: Unverified HTTPS request is being made to host 'gateway.marvel.com'. Adding certificate verification is strongly advised. See: https://urllib3.readthedocs.io/en/1.26.x/advanced-usage.html#ssl-warnings\n",
      "  warnings.warn(\n"
     ]
    },
    {
     "name": "stdout",
     "output_type": "stream",
     "text": [
      "                Character_Name  Events  Series  Stories  Comis       id\n",
      "0                 A-Bomb (HAS)       0       2        7      4  1017100\n",
      "1                       A.I.M.       0      34       54     51  1009144\n",
      "2                  Aaron Stack       0       3       27     14  1010699\n",
      "3   Abomination (Emil Blonsky)       1      27       65     55  1009146\n",
      "4       Abomination (Ultimate)       0       2        3      2  1016823\n",
      "..                         ...     ...     ...      ...    ...      ...\n",
      "79                      Aurora       4      18       94     82  1009163\n",
      "80                   Avalanche       7      20       54     47  1009164\n",
      "81                    Avengers      33     624     2868   2037  1009165\n",
      "82         Avengers (Ultimate)       0      11       33     39  1015239\n",
      "83             Azazel (Mutant)       0       3        4      3  1011766\n",
      "\n",
      "[84 rows x 6 columns]\n"
     ]
    }
   ],
   "source": [
    "DF=fun(pub_k,'a',hash)"
   ]
  },
  {
   "cell_type": "code",
   "execution_count": 8,
   "id": "161bbf13",
   "metadata": {},
   "outputs": [
    {
     "name": "stderr",
     "output_type": "stream",
     "text": [
      "C:\\Users\\Yuvraj\\anaconda3\\lib\\site-packages\\urllib3\\connectionpool.py:1013: InsecureRequestWarning: Unverified HTTPS request is being made to host 'gateway.marvel.com'. Adding certificate verification is strongly advised. See: https://urllib3.readthedocs.io/en/1.26.x/advanced-usage.html#ssl-warnings\n",
      "  warnings.warn(\n",
      "C:\\Users\\Yuvraj\\anaconda3\\lib\\site-packages\\urllib3\\connectionpool.py:1013: InsecureRequestWarning: Unverified HTTPS request is being made to host 'gateway.marvel.com'. Adding certificate verification is strongly advised. See: https://urllib3.readthedocs.io/en/1.26.x/advanced-usage.html#ssl-warnings\n",
      "  warnings.warn(\n",
      "C:\\Users\\Yuvraj\\anaconda3\\lib\\site-packages\\urllib3\\connectionpool.py:1013: InsecureRequestWarning: Unverified HTTPS request is being made to host 'gateway.marvel.com'. Adding certificate verification is strongly advised. See: https://urllib3.readthedocs.io/en/1.26.x/advanced-usage.html#ssl-warnings\n",
      "  warnings.warn(\n",
      "C:\\Users\\Yuvraj\\anaconda3\\lib\\site-packages\\urllib3\\connectionpool.py:1013: InsecureRequestWarning: Unverified HTTPS request is being made to host 'gateway.marvel.com'. Adding certificate verification is strongly advised. See: https://urllib3.readthedocs.io/en/1.26.x/advanced-usage.html#ssl-warnings\n",
      "  warnings.warn(\n"
     ]
    },
    {
     "name": "stdout",
     "output_type": "stream",
     "text": [
      "                 Character_Name  Events  Series  Stories  Comis       id\n",
      "0                  A-Bomb (HAS)       0       2        7      4  1017100\n",
      "1                        A.I.M.       0      34       54     51  1009144\n",
      "2                   Aaron Stack       0       3       27     14  1010699\n",
      "3    Abomination (Emil Blonsky)       1      27       65     55  1009146\n",
      "4        Abomination (Ultimate)       0       2        3      2  1016823\n",
      "..                          ...     ...     ...      ...    ...      ...\n",
      "163                      Aurora       4      18       94     82  1009163\n",
      "164                   Avalanche       7      20       54     47  1009164\n",
      "165                    Avengers      33     624     2868   2037  1009165\n",
      "166         Avengers (Ultimate)       0      11       33     39  1015239\n",
      "167             Azazel (Mutant)       0       3        4      3  1011766\n",
      "\n",
      "[168 rows x 6 columns]\n"
     ]
    }
   ],
   "source": [
    "try:\n",
    "    DF=fun(pub_k,'a',hash)   \n",
    "except:\n",
    "    print(\"error. please enter proper parameters!!\")"
   ]
  },
  {
   "cell_type": "code",
   "execution_count": 9,
   "id": "212d1273",
   "metadata": {},
   "outputs": [
    {
     "name": "stdout",
     "output_type": "stream",
     "text": [
      "                 Character_Name  Events  Series  Stories  Comis       id\n",
      "0                  A-Bomb (HAS)       0       2        7      4  1017100\n",
      "1                        A.I.M.       0      34       54     51  1009144\n",
      "2                   Aaron Stack       0       3       27     14  1010699\n",
      "3    Abomination (Emil Blonsky)       1      27       65     55  1009146\n",
      "4        Abomination (Ultimate)       0       2        3      2  1016823\n",
      "..                          ...     ...     ...      ...    ...      ...\n",
      "163                      Aurora       4      18       94     82  1009163\n",
      "164                   Avalanche       7      20       54     47  1009164\n",
      "165                    Avengers      33     624     2868   2037  1009165\n",
      "166         Avengers (Ultimate)       0      11       33     39  1015239\n",
      "167             Azazel (Mutant)       0       3        4      3  1011766\n",
      "\n",
      "[168 rows x 6 columns]\n"
     ]
    }
   ],
   "source": [
    "print(DF)"
   ]
  },
  {
   "cell_type": "code",
   "execution_count": null,
   "id": "77bc6ea9",
   "metadata": {},
   "outputs": [],
   "source": []
  },
  {
   "cell_type": "code",
   "execution_count": null,
   "id": "30357cf4",
   "metadata": {},
   "outputs": [],
   "source": []
  }
 ],
 "metadata": {
  "kernelspec": {
   "display_name": "Python 3 (ipykernel)",
   "language": "python",
   "name": "python3"
  },
  "language_info": {
   "codemirror_mode": {
    "name": "ipython",
    "version": 3
   },
   "file_extension": ".py",
   "mimetype": "text/x-python",
   "name": "python",
   "nbconvert_exporter": "python",
   "pygments_lexer": "ipython3",
   "version": "3.9.7"
  }
 },
 "nbformat": 4,
 "nbformat_minor": 5
}
